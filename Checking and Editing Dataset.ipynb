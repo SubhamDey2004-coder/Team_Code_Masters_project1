{
 "cells": [
  {
   "cell_type": "code",
   "execution_count": 4,
   "id": "10820716",
   "metadata": {},
   "outputs": [
    {
     "name": "stdout",
     "output_type": "stream",
     "text": [
      "Subject\n",
      "Biology      6\n",
      "Chemistry    6\n",
      "English      6\n",
      "History      6\n",
      "Math         6\n",
      "Physics      6\n",
      "Name: Absent_Faculty, dtype: int64\n"
     ]
    }
   ],
   "source": [
    "import pandas as pd\n",
    "\n",
    "# Load your dataset\n",
    "df = pd.read_csv(\"synthetic_substitution_data.csv\")\n",
    "\n",
    "# Group by Subject and count unique Absent_Faculty\n",
    "faculty_count_per_subject = df.groupby('Subject')['Absent_Faculty'].nunique()\n",
    "\n",
    "# Display the result\n",
    "print(faculty_count_per_subject)\n"
   ]
  },
  {
   "cell_type": "code",
   "execution_count": null,
   "id": "751aa7c4",
   "metadata": {},
   "outputs": [],
   "source": []
  }
 ],
 "metadata": {
  "kernelspec": {
   "display_name": "Python 3 (ipykernel)",
   "language": "python",
   "name": "python3"
  },
  "language_info": {
   "codemirror_mode": {
    "name": "ipython",
    "version": 3
   },
   "file_extension": ".py",
   "mimetype": "text/x-python",
   "name": "python",
   "nbconvert_exporter": "python",
   "pygments_lexer": "ipython3",
   "version": "3.11.5"
  }
 },
 "nbformat": 4,
 "nbformat_minor": 5
}
